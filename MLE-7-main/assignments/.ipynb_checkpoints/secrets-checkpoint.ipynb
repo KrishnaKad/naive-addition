{
 "cells": [
  {
   "cell_type": "code",
   "execution_count": null,
   "id": "6db13ab4",
   "metadata": {},
   "outputs": [],
   "source": [
    "REDDIT_API_CLIENT_ID = '98frTApJcV97puirh95MTw'\n",
    "REDDIT_API_CLIENT_SECRET = 'r6hS14-qm_v31CevABG4acjusR8NqQ'\n",
    "REDDIT_API_USER_AGENT = teslabot"
   ]
  }
 ],
 "metadata": {
  "kernelspec": {
   "display_name": "Python 3 (ipykernel)",
   "language": "python",
   "name": "python3"
  },
  "language_info": {
   "codemirror_mode": {
    "name": "ipython",
    "version": 3
   },
   "file_extension": ".py",
   "mimetype": "text/x-python",
   "name": "python",
   "nbconvert_exporter": "python",
   "pygments_lexer": "ipython3",
   "version": "3.9.7"
  }
 },
 "nbformat": 4,
 "nbformat_minor": 5
}
